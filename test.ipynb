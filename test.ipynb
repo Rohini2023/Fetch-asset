{
 "cells": [
  {
   "cell_type": "code",
   "execution_count": 2,
   "id": "e6898f5a",
   "metadata": {},
   "outputs": [
    {
     "name": "stdout",
     "output_type": "stream",
     "text": [
      "Sending GET request to http://nec-ofc-api1:8080/platform-asset-1.0.0/latest/filter/access...\n",
      "❌ Connection Error: HTTPConnectionPool(host='nec-ofc-api1', port=8080): Max retries exceeded with url: /platform-asset-1.0.0/latest/filter/access (Caused by NameResolutionError(\"<urllib3.connection.HTTPConnection object at 0x00000188206BDCD0>: Failed to resolve 'nec-ofc-api1' ([Errno 11001] getaddrinfo failed)\"))\n"
     ]
    }
   ],
   "source": [
    "import requests\n",
    "\n",
    "# Direct values (hardcoded)\n",
    "REAL_API_URL = \"http://nec-ofc-api1:8080/platform-asset-1.0.0/latest/filter/access\"\n",
    "REAL_API_TOKEN = \"eyJhbGciOiJSUzI1NiIsInR5cCIgOiAiSldUIiwia2lkIiA6ICJzdHZpSEN2YXpuLUo4QmRrbW1mMFZtNWxIT3hpRjIyZlRxdUJXY3Y5MndZIn0.eyJleHAiOjE3NDc5MDA1NzMsImlhdCI6MTc0Nzg5Njk3MywianRpIjoiYTZlMjYwMzItYTMxMS00ZTdmLWJmOTYtNDhjZmI5YzMwYjJkIiwiaXNzIjoiaHR0cDovL25lYy1vZmMtZHZjMTo4MDgwL3JlYWxtcy9uZWN0YXIiLCJhdWQiOiJhY2NvdW50Iiwic3ViIjoiZjZkMzExZmQtNTRkNi00MTdhLWEzMDQtZDViMjljNWNkZTg4IiwidHlwIjoiQmVhcmVyIiwiYXpwIjoibmVjdGFyY2xpZW50Iiwic2Vzc2lvbl9zdGF0ZSI6ImM5ZDBiNzAzLTIzZjgtNGU1ZC04NGE4LTgyNjQxOTlkYmM5ZiIsImFjciI6IjEiLCJhbGxvd2VkLW9yaWdpbnMiOlsiIl0sInJlYWxtX2FjY2VzcyI6eyJyb2xlcyI6WyJkZWZhdWx0LXJvbGVzLW5lY3RhciIsIm9mZmxpbmVfYWNjZXNzIiwidW1hX2F1dGhvcml6YXRpb24iXX0sInJlc291cmNlX2FjY2VzcyI6eyJhY2NvdW50Ijp7InJvbGVzIjpbIm1hbmFnZS1hY2NvdW50IiwibWFuYWdlLWFjY291bnQtbGlua3MiLCJ2aWV3LXByb2ZpbGUiXX19LCJzY29wZSI6ImVtYWlsIHByb2ZpbGUiLCJzaWQiOiJjOWQwYjcwMy0yM2Y4LTRlNWQtODRhOC04MjY0MTk5ZGJjOWYiLCJlbWFpbF92ZXJpZmllZCI6ZmFsc2UsInByZWZlcnJlZF91c2VybmFtZSI6InN1cHBvcnRAbHJlbWNvZmMifQ.mHJAlYQSkS2c9rDpgDIV50gqo67cw-kZF_MLFMf57nleg-VhBD2ft7OklnULyhf6X2clTv11YOVzxEOOERx5xIWke3kwZVvI0ZEoKhnWuXhJh65nEYXN2hb-XUnnklYRy7PJx26dEdcdGC8GllLgB4I3SM6LR6gwjMT3KpqgVO4-N7Z-jh_zMb4h7aKg3Tssy-W54kVO3XZzA0toiLSX8iOQy08x0PB_Qx0C6aa-SHte0TQcZEy54LOhZDyDePGrrsWeDcBfMG_NPyG4tRZ0hMIBqh83WvvaBv15Y_j2B30AuMQrEx4UOsxEqYn2SpLf0I2I-45aTs57LQY-CWpT2Q\"\n",
    "\n",
    "def test_real_api_connection():\n",
    "    headers = {\n",
    "        \"Authorization\": f\"Bearer {REAL_API_TOKEN}\",\n",
    "        \"Accept\": \"application/json\"\n",
    "    }\n",
    "\n",
    "    try:\n",
    "        print(f\"Sending GET request to {REAL_API_URL}...\")\n",
    "        response = requests.get(REAL_API_URL, headers=headers)\n",
    "        response.raise_for_status()\n",
    "        print(\"✅ Connection successful!\")\n",
    "        print(\"Status Code:\", response.status_code)\n",
    "        print(\"Response JSON:\", response.json())\n",
    "    except requests.exceptions.HTTPError as errh:\n",
    "        print(\"❌ HTTP Error:\", errh)\n",
    "    except requests.exceptions.ConnectionError as errc:\n",
    "        print(\"❌ Connection Error:\", errc)\n",
    "    except requests.exceptions.Timeout as errt:\n",
    "        print(\"❌ Timeout Error:\", errt)\n",
    "    except requests.exceptions.RequestException as err:\n",
    "        print(\"❌ General Error:\", err)\n",
    "\n",
    "if __name__ == \"__main__\":\n",
    "    test_real_api_connection()\n"
   ]
  },
  {
   "cell_type": "code",
   "execution_count": 3,
   "id": "e4963716",
   "metadata": {},
   "outputs": [
    {
     "name": "stdout",
     "output_type": "stream",
     "text": [
      "\n",
      "🔄 Attempting GET request to http://nec-ofc-api1:8080/platform-asset-1.0.0/latest/filter/access\n",
      "❌ Connection Error: HTTPConnectionPool(host='nec-ofc-api1', port=8080): Max retries exceeded with url: /platform-asset-1.0.0/latest/filter/access (Caused by NameResolutionError(\"<urllib3.connection.HTTPConnection object at 0x00000188206D2850>: Failed to resolve 'nec-ofc-api1' ([Errno 11001] getaddrinfo failed)\"))\n",
      "\n",
      "🔄 Attempting GET request to http://nec-ofc-api1:8080/platform-asset-1.0.0/latest/filter/access\n",
      "❌ Connection Error: HTTPConnectionPool(host='nec-ofc-api1', port=8080): Max retries exceeded with url: /platform-asset-1.0.0/latest/filter/access (Caused by NameResolutionError(\"<urllib3.connection.HTTPConnection object at 0x00000188206D8890>: Failed to resolve 'nec-ofc-api1' ([Errno 11001] getaddrinfo failed)\"))\n",
      "\n",
      "🔄 Attempting GET request to http://nec-ofc-api1:8080/platform-asset-1.0.0/latest/filter/access\n",
      "❌ Connection Error: HTTPConnectionPool(host='nec-ofc-api1', port=8080): Max retries exceeded with url: /platform-asset-1.0.0/latest/filter/access (Caused by NameResolutionError(\"<urllib3.connection.HTTPConnection object at 0x00000188206D2C90>: Failed to resolve 'nec-ofc-api1' ([Errno 11001] getaddrinfo failed)\"))\n",
      "\n",
      "🔄 Attempting GET request to http://nec-ofc-api1:8080/platform-asset-1.0.0/latest/filter/access\n",
      "❌ Connection Error: HTTPConnectionPool(host='nec-ofc-api1', port=8080): Max retries exceeded with url: /platform-asset-1.0.0/latest/filter/access?status=active (Caused by NameResolutionError(\"<urllib3.connection.HTTPConnection object at 0x00000188206D9A10>: Failed to resolve 'nec-ofc-api1' ([Errno 11001] getaddrinfo failed)\"))\n",
      "\n",
      "🔄 Attempting POST request to http://nec-ofc-api1:8080/platform-asset-1.0.0/latest/filter/access\n",
      "❌ Connection Error: HTTPConnectionPool(host='nec-ofc-api1', port=8080): Max retries exceeded with url: /platform-asset-1.0.0/latest/filter/access (Caused by NameResolutionError(\"<urllib3.connection.HTTPConnection object at 0x00000188206DB490>: Failed to resolve 'nec-ofc-api1' ([Errno 11001] getaddrinfo failed)\"))\n",
      "\n",
      "🔄 Attempting OPTIONS request to http://nec-ofc-api1:8080/platform-asset-1.0.0/latest/filter/access\n",
      "❌ Connection Error: HTTPConnectionPool(host='nec-ofc-api1', port=8080): Max retries exceeded with url: /platform-asset-1.0.0/latest/filter/access (Caused by NameResolutionError(\"<urllib3.connection.HTTPConnection object at 0x00000188206E5350>: Failed to resolve 'nec-ofc-api1' ([Errno 11001] getaddrinfo failed)\"))\n"
     ]
    }
   ],
   "source": [
    "import requests\n",
    "\n",
    "REAL_API_URL = \"http://nec-ofc-api1:8080/platform-asset-1.0.0/latest/filter/access\"\n",
    "REAL_API_TOKEN = \"eyJhbGciOiJSUzI1NiIsInR5cCIgOiAiSldUIiwia2lkIiA6ICJzdHZpSEN2YXpuLUo4QmRrbW1mMFZtNWxIT3hpRjIyZlRxdUJXY3Y5MndZIn0.eyJleHAiOjE3NDc5MDA1NzMsImlhdCI6MTc0Nzg5Njk3MywianRpIjoiYTZlMjYwMzItYTMxMS00ZTdmLWJmOTYtNDhjZmI5YzMwYjJkIiwiaXNzIjoiaHR0cDovL25lYy1vZmMtZHZjMTo4MDgwL3JlYWxtcy9uZWN0YXIiLCJhdWQiOiJhY2NvdW50Iiwic3ViIjoiZjZkMzExZmQtNTRkNi00MTdhLWEzMDQtZDViMjljNWNkZTg4IiwidHlwIjoiQmVhcmVyIiwiYXpwIjoibmVjdGFyY2xpZW50Iiwic2Vzc2lvbl9zdGF0ZSI6ImM5ZDBiNzAzLTIzZjgtNGU1ZC04NGE4LTgyNjQxOTlkYmM5ZiIsImFjciI6IjEiLCJhbGxvd2VkLW9yaWdpbnMiOlsiIl0sInJlYWxtX2FjY2VzcyI6eyJyb2xlcyI6WyJkZWZhdWx0LXJvbGVzLW5lY3RhciIsIm9mZmxpbmVfYWNjZXNzIiwidW1hX2F1dGhvcml6YXRpb24iXX0sInJlc291cmNlX2FjY2VzcyI6eyJhY2NvdW50Ijp7InJvbGVzIjpbIm1hbmFnZS1hY2NvdW50IiwibWFuYWdlLWFjY291bnQtbGlua3MiLCJ2aWV3LXByb2ZpbGUiXX19LCJzY29wZSI6ImVtYWlsIHByb2ZpbGUiLCJzaWQiOiJjOWQwYjcwMy0yM2Y4LTRlNWQtODRhOC04MjY0MTk5ZGJjOWYiLCJlbWFpbF92ZXJpZmllZCI6ZmFsc2UsInByZWZlcnJlZF91c2VybmFtZSI6InN1cHBvcnRAbHJlbWNvZmMifQ.mHJAlYQSkS2c9rDpgDIV50gqo67cw-kZF_MLFMf57nleg-VhBD2ft7OklnULyhf6X2clTv11YOVzxEOOERx5xIWke3kwZVvI0ZEoKhnWuXhJh65nEYXN2hb-XUnnklYRy7PJx26dEdcdGC8GllLgB4I3SM6LR6gwjMT3KpqgVO4-N7Z-jh_zMb4h7aKg3Tssy-W54kVO3XZzA0toiLSX8iOQy08x0PB_Qx0C6aa-SHte0TQcZEy54LOhZDyDePGrrsWeDcBfMG_NPyG4tRZ0hMIBqh83WvvaBv15Y_j2B30AuMQrEx4UOsxEqYn2SpLf0I2I-45aTs57LQY-CWpT2Q\"\n",
    "\n",
    "def test_api(method, headers=None, params=None, json=None):\n",
    "    try:\n",
    "        print(f\"\\n🔄 Attempting {method} request to {REAL_API_URL}\")\n",
    "        response = requests.request(method, REAL_API_URL, headers=headers, params=params, json=json, timeout=10)\n",
    "        response.raise_for_status()\n",
    "        print(\"✅ Success!\")\n",
    "        print(\"Status Code:\", response.status_code)\n",
    "        print(\"Response JSON:\", response.json())\n",
    "    except requests.exceptions.HTTPError as errh:\n",
    "        print(\"❌ HTTP Error:\", errh)\n",
    "        print(\"Status Code:\", getattr(errh.response, 'status_code', None))\n",
    "        print(\"Response Text:\", getattr(errh.response, 'text', None))\n",
    "    except requests.exceptions.ConnectionError as errc:\n",
    "        print(\"❌ Connection Error:\", errc)\n",
    "    except requests.exceptions.Timeout as errt:\n",
    "        print(\"❌ Timeout Error:\", errt)\n",
    "    except requests.exceptions.RequestException as err:\n",
    "        print(\"❌ General Request Error:\", err)\n",
    "\n",
    "\n",
    "def try_all_connection_options():\n",
    "    headers_basic = {\n",
    "        \"Authorization\": f\"Bearer {REAL_API_TOKEN}\"\n",
    "    }\n",
    "\n",
    "    headers_with_accept = {\n",
    "        \"Authorization\": f\"Bearer {REAL_API_TOKEN}\",\n",
    "        \"Accept\": \"application/json\"\n",
    "    }\n",
    "\n",
    "    headers_full = {\n",
    "        \"Authorization\": f\"Bearer {REAL_API_TOKEN}\",\n",
    "        \"Accept\": \"application/json\",\n",
    "        \"Content-Type\": \"application/json\"\n",
    "    }\n",
    "\n",
    "    # Try different header setups with GET\n",
    "    test_api(\"GET\", headers=headers_basic)\n",
    "    test_api(\"GET\", headers=headers_with_accept)\n",
    "    test_api(\"GET\", headers=headers_full)\n",
    "\n",
    "    # If the API expects filters via query parameters\n",
    "    test_api(\"GET\", headers=headers_with_accept, params={\"status\": \"active\"})\n",
    "\n",
    "    # Try POST (some APIs use POST for filtered retrieval)\n",
    "    test_api(\"POST\", headers=headers_with_accept, json={\"filter\": \"active\"})\n",
    "\n",
    "    # Try OPTIONS to test if endpoint exists and what it allows\n",
    "    test_api(\"OPTIONS\", headers=headers_basic)\n",
    "\n",
    "\n",
    "if __name__ == \"__main__\":\n",
    "    try_all_connection_options()\n"
   ]
  }
 ],
 "metadata": {
  "kernelspec": {
   "display_name": "Python 3",
   "language": "python",
   "name": "python3"
  },
  "language_info": {
   "codemirror_mode": {
    "name": "ipython",
    "version": 3
   },
   "file_extension": ".py",
   "mimetype": "text/x-python",
   "name": "python",
   "nbconvert_exporter": "python",
   "pygments_lexer": "ipython3",
   "version": "3.11.9"
  }
 },
 "nbformat": 4,
 "nbformat_minor": 5
}
